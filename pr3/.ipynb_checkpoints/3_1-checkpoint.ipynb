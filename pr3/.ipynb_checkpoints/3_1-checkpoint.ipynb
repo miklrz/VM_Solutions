{
 "cells": [
  {
   "cell_type": "markdown",
   "id": "2b26882e-7b77-4b99-8ecd-9ad7bc438624",
   "metadata": {},
   "source": [
    "f = 5**x + 3x = 0\n",
    "f' = 5**xln5 + 3 \n",
    "5**xln5 + 3 = 0\n",
    "5**x = -3/ln5\n",
    "x = (-lg(3) + lg(ln5))/lg(5)"
   ]
  },
  {
   "cell_type": "code",
   "execution_count": 1,
   "id": "167e97c5-967f-4ae8-9bbd-85435a7ef5dd",
   "metadata": {},
   "outputs": [],
   "source": [
    "import numpy as np"
   ]
  },
  {
   "cell_type": "code",
   "execution_count": null,
   "id": "73a228cf-c38c-403b-9ea0-b6d0d7e7c016",
   "metadata": {},
   "outputs": [],
   "source": []
  }
 ],
 "metadata": {
  "kernelspec": {
   "display_name": "Python 3 (ipykernel)",
   "language": "python",
   "name": "python3"
  },
  "language_info": {
   "codemirror_mode": {
    "name": "ipython",
    "version": 3
   },
   "file_extension": ".py",
   "mimetype": "text/x-python",
   "name": "python",
   "nbconvert_exporter": "python",
   "pygments_lexer": "ipython3",
   "version": "3.12.7"
  }
 },
 "nbformat": 4,
 "nbformat_minor": 5
}
