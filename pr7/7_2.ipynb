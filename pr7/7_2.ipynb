{
 "cells": [
  {
   "cell_type": "code",
   "id": "initial_id",
   "metadata": {
    "collapsed": true,
    "ExecuteTime": {
     "end_time": "2024-12-10T06:29:55.036914Z",
     "start_time": "2024-12-10T06:29:53.879781Z"
    }
   },
   "source": [
    "import numpy as np\n",
    "import matplotlib.pyplot as plt"
   ],
   "outputs": [],
   "execution_count": 1
  },
  {
   "metadata": {},
   "cell_type": "markdown",
   "source": [
    "## x^2+4y^2–2xy+y–x; (x0,y0) = (1,–1); a = 0.1\n",
    "### Исследовать функцию на экстремум аналитически.\n",
    "### Найти минимум функции f(x,y) методом градиентного спуска с точностью ε=0.1, начиная с точки (х0,y0). Значение параметра α задано в таблице вариантов.\n",
    "### Сравнить точное и приближённое решения."
   ],
   "id": "407909b664ebd4ae"
  },
  {
   "metadata": {
    "ExecuteTime": {
     "end_time": "2024-12-10T06:29:55.057992Z",
     "start_time": "2024-12-10T06:29:55.051971Z"
    }
   },
   "cell_type": "code",
   "source": [
    "# def f(x,y):\n",
    "#     return x**2 + 4*y^2 -2*x*y + y -x\n",
    "#\n",
    "# x = np.arange(0,10)\n",
    "# y = np.arange(0,10)\n",
    "# f = [f(x[i],y[i]) for i in range(0,10)]\n",
    "#\n",
    "# fig = plt.figure()\n",
    "# ax = fig.add_subplot(111, projection='3d')\n",
    "# ax.plot(x,y,f, label='parametric curve')"
   ],
   "id": "71b5a35a4e0c2b7c",
   "outputs": [],
   "execution_count": 2
  },
  {
   "metadata": {},
   "cell_type": "code",
   "outputs": [],
   "execution_count": null,
   "source": [
    "global_epsilon = 0.000000001\n",
    "radius = 8                                  # working plane radius\n",
    "centre = (global_epsilon, global_epsilon)   # centre of the working circle\n",
    "arr_shape = 100                             # number of points processed / 360\n",
    "step = radius / arr_shape                   # step between two points\n",
    "\n",
    "def f(x,y):\n",
    "    return x**2 + 4*y^2 -2*x*y + y -x\n",
    "\n",
    "def der_x(x,y):\n",
    "    return 2*x - 2*y - 1\n",
    "\n",
    "def der_y(x,y):\n",
    "    return 8*y - 2*x + 1\n",
    "\n",
    "def norm(x,y):\n",
    "    np.sqrt(x**2 + y**2)\n",
    "\n"
   ],
   "id": "4c4cdc87c884ae50"
  },
  {
   "metadata": {},
   "cell_type": "code",
   "outputs": [],
   "execution_count": null,
   "source": "",
   "id": "90b9f75dda8c51db"
  }
 ],
 "metadata": {
  "kernelspec": {
   "display_name": "Python 3",
   "language": "python",
   "name": "python3"
  },
  "language_info": {
   "codemirror_mode": {
    "name": "ipython",
    "version": 2
   },
   "file_extension": ".py",
   "mimetype": "text/x-python",
   "name": "python",
   "nbconvert_exporter": "python",
   "pygments_lexer": "ipython2",
   "version": "2.7.6"
  }
 },
 "nbformat": 4,
 "nbformat_minor": 5
}
