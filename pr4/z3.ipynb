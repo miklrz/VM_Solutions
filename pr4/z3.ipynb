{
 "cells": [
  {
   "cell_type": "code",
   "execution_count": 6,
   "id": "9ccd800d-a08f-406b-a0c7-9ccf708f5049",
   "metadata": {},
   "outputs": [],
   "source": [
    "import pandas as pd\n",
    "import math"
   ]
  },
  {
   "cell_type": "code",
   "execution_count": 2,
   "id": "a5320413-3f71-480b-9294-f6cfcb72d8dd",
   "metadata": {},
   "outputs": [],
   "source": [
    "def y_func(x):  \n",
    "    return math.tan(pow(x,2))/(pow(x,2) + 1)\n",
    "\n",
    "def y_func_test(x):\n",
    "    return math.sin(2*x-2.1)/(pow(x,2)+1)"
   ]
  },
  {
   "cell_type": "code",
   "execution_count": 3,
   "id": "7be730e7-1f89-4009-92fd-cdf035060f87",
   "metadata": {},
   "outputs": [],
   "source": [
    "# 3\n",
    "# h = 0.1\n",
    "# a = 0.2\n",
    "# b = 1"
   ]
  },
  {
   "cell_type": "code",
   "execution_count": 4,
   "id": "f8c80f60-8b6a-4a8f-ac94-0fa92358fe32",
   "metadata": {},
   "outputs": [],
   "source": [
    "#test\n",
    "h = 0.05\n",
    "a = 1.2\n",
    "b = 1.6"
   ]
  },
  {
   "cell_type": "code",
   "execution_count": 12,
   "id": "dd0965b6-0156-4042-9f87-6ba8e9f54cff",
   "metadata": {},
   "outputs": [
    {
     "data": {
      "text/html": [
       "<div>\n",
       "<style scoped>\n",
       "    .dataframe tbody tr th:only-of-type {\n",
       "        vertical-align: middle;\n",
       "    }\n",
       "\n",
       "    .dataframe tbody tr th {\n",
       "        vertical-align: top;\n",
       "    }\n",
       "\n",
       "    .dataframe thead th {\n",
       "        text-align: right;\n",
       "    }\n",
       "</style>\n",
       "<table border=\"1\" class=\"dataframe\">\n",
       "  <thead>\n",
       "    <tr style=\"text-align: right;\">\n",
       "      <th></th>\n",
       "      <th>y</th>\n",
       "      <th>yp1</th>\n",
       "      <th>yp2</th>\n",
       "      <th>yp3</th>\n",
       "      <th>yp4</th>\n",
       "    </tr>\n",
       "  </thead>\n",
       "  <tbody>\n",
       "    <tr>\n",
       "      <th>0</th>\n",
       "      <td>0.121115</td>\n",
       "      <td>0.030853</td>\n",
       "      <td>-0.004596</td>\n",
       "      <td>0.000165</td>\n",
       "      <td>0.000032</td>\n",
       "    </tr>\n",
       "    <tr>\n",
       "      <th>1</th>\n",
       "      <td>0.151968</td>\n",
       "      <td>0.026257</td>\n",
       "      <td>-0.004432</td>\n",
       "      <td>0.000197</td>\n",
       "      <td>0.000025</td>\n",
       "    </tr>\n",
       "    <tr>\n",
       "      <th>2</th>\n",
       "      <td>0.178225</td>\n",
       "      <td>0.021825</td>\n",
       "      <td>-0.004235</td>\n",
       "      <td>0.000222</td>\n",
       "      <td>0.000019</td>\n",
       "    </tr>\n",
       "    <tr>\n",
       "      <th>3</th>\n",
       "      <td>0.200050</td>\n",
       "      <td>0.017591</td>\n",
       "      <td>-0.004013</td>\n",
       "      <td>0.000240</td>\n",
       "      <td>0.000013</td>\n",
       "    </tr>\n",
       "    <tr>\n",
       "      <th>4</th>\n",
       "      <td>0.217641</td>\n",
       "      <td>0.013578</td>\n",
       "      <td>-0.003773</td>\n",
       "      <td>0.000254</td>\n",
       "      <td>0.000009</td>\n",
       "    </tr>\n",
       "    <tr>\n",
       "      <th>5</th>\n",
       "      <td>0.231219</td>\n",
       "      <td>0.009805</td>\n",
       "      <td>-0.003519</td>\n",
       "      <td>0.000263</td>\n",
       "      <td>NaN</td>\n",
       "    </tr>\n",
       "    <tr>\n",
       "      <th>6</th>\n",
       "      <td>0.241024</td>\n",
       "      <td>0.006286</td>\n",
       "      <td>-0.003256</td>\n",
       "      <td>NaN</td>\n",
       "      <td>NaN</td>\n",
       "    </tr>\n",
       "    <tr>\n",
       "      <th>7</th>\n",
       "      <td>0.247310</td>\n",
       "      <td>0.003030</td>\n",
       "      <td>NaN</td>\n",
       "      <td>NaN</td>\n",
       "      <td>NaN</td>\n",
       "    </tr>\n",
       "    <tr>\n",
       "      <th>8</th>\n",
       "      <td>0.250339</td>\n",
       "      <td>NaN</td>\n",
       "      <td>NaN</td>\n",
       "      <td>NaN</td>\n",
       "      <td>NaN</td>\n",
       "    </tr>\n",
       "  </tbody>\n",
       "</table>\n",
       "</div>"
      ],
      "text/plain": [
       "          y       yp1       yp2       yp3       yp4\n",
       "0  0.121115  0.030853 -0.004596  0.000165  0.000032\n",
       "1  0.151968  0.026257 -0.004432  0.000197  0.000025\n",
       "2  0.178225  0.021825 -0.004235  0.000222  0.000019\n",
       "3  0.200050  0.017591 -0.004013  0.000240  0.000013\n",
       "4  0.217641  0.013578 -0.003773  0.000254  0.000009\n",
       "5  0.231219  0.009805 -0.003519  0.000263       NaN\n",
       "6  0.241024  0.006286 -0.003256       NaN       NaN\n",
       "7  0.247310  0.003030       NaN       NaN       NaN\n",
       "8  0.250339       NaN       NaN       NaN       NaN"
      ]
     },
     "execution_count": 12,
     "metadata": {},
     "output_type": "execute_result"
    }
   ],
   "source": [
    "x = []\n",
    "y = []\n",
    "for i in range(0,9):\n",
    "    xi = a + h*i\n",
    "    yi = y_func_test(xi)\n",
    "    x.append(xi)\n",
    "    y.append(yi)\n",
    "\n",
    "\n",
    "I = h/3\n",
    "_ = y[0]+y[8]\n",
    "\n",
    "sum1=0\n",
    "for i in range(1,8,2):\n",
    "    sum1+=y[i]\n",
    "_+=sum1*4\n",
    "\n",
    "sum2 = 0\n",
    "for i in range(2,7,2):\n",
    "    sum2+=y[i]\n",
    "_+=sum2*2\n",
    "\n",
    "I*=_\n",
    "\n",
    "yp1 = []\n",
    "yp2 = []\n",
    "yp3 = [] \n",
    "yp4 = []\n",
    "\n",
    "for i in range(len(y)-1):\n",
    "    yp1.append(y[i+1] - y[i])\n",
    "\n",
    "\n",
    "for i in range(len(yp1)-1):\n",
    "    yp2.append(yp1[i+1] - yp1[i])\n",
    "\n",
    "for i in range(len(yp2)-1):\n",
    "    yp3.append(yp2[i+1] - yp2[i])\n",
    "\n",
    "for i in range(len(yp3)-1):\n",
    "    yp4.append(yp3[i+1] - yp3[i])\n",
    "\n",
    "df = pd.DataFrame({\n",
    "    'y': y,\n",
    "    'yp1': yp1 + [None],  # Заполняем последнюю позицию None\n",
    "    'yp2': yp2 + [None, None],  # Заполняем последние позиции None\n",
    "    'yp3': yp3 + [None, None, None],  # Заполняем последние позиции None\n",
    "    'yp4' : yp4 + [None, None, None, None]\n",
    "})\n",
    "df"
   ]
  },
  {
   "cell_type": "code",
   "execution_count": 13,
   "id": "c77832f6-0605-4a46-9fe9-f8e71e36ab2a",
   "metadata": {},
   "outputs": [],
   "source": [
    "R = ((b-a)*max(max(yp4),abs(min(yp4))))/180\n",
    "dI = (b-a)*max(max(yp4),abs(min(yp4)))"
   ]
  },
  {
   "cell_type": "code",
   "execution_count": 14,
   "id": "00b592b1-94ad-4f98-bd0e-69279b1c27d6",
   "metadata": {},
   "outputs": [
    {
     "name": "stdout",
     "output_type": "stream",
     "text": [
      "7.143959401397413e-08 1.2859126922515344e-05\n"
     ]
    }
   ],
   "source": [
    "print(R,dI)"
   ]
  },
  {
   "cell_type": "code",
   "execution_count": null,
   "id": "d1242c8f-fca9-4fe8-9183-418c7b526554",
   "metadata": {},
   "outputs": [],
   "source": []
  }
 ],
 "metadata": {
  "kernelspec": {
   "display_name": "Python 3 (ipykernel)",
   "language": "python",
   "name": "python3"
  },
  "language_info": {
   "codemirror_mode": {
    "name": "ipython",
    "version": 3
   },
   "file_extension": ".py",
   "mimetype": "text/x-python",
   "name": "python",
   "nbconvert_exporter": "python",
   "pygments_lexer": "ipython3",
   "version": "3.12.4"
  }
 },
 "nbformat": 4,
 "nbformat_minor": 5
}
